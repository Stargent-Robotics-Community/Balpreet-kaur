{
 "cells": [
  {
   "cell_type": "code",
   "execution_count": 4,
   "id": "87861c2a",
   "metadata": {},
   "outputs": [],
   "source": [
    "import pyttsx3"
   ]
  },
  {
   "cell_type": "code",
   "execution_count": 5,
   "id": "44923c0d",
   "metadata": {},
   "outputs": [],
   "source": [
    "import speech_recognition as sr"
   ]
  },
  {
   "cell_type": "code",
   "execution_count": 6,
   "id": "bdc83521",
   "metadata": {},
   "outputs": [
    {
     "name": "stdout",
     "output_type": "stream",
     "text": [
      "listening\n",
      "recognising\n",
      "you said:how are you\n",
      "if you want to quit?\n",
      "press 1 for yes:1\n",
      "THANK YOU FOR LISTENING TO ALL INDIA RADIO AND STAY HOME STAY SAFE FROM THIS PANDEMIC MEET YOU SOON ON THE SAME CHANNEL:\n"
     ]
    }
   ],
   "source": [
    "engine = pyttsx3.init()\n",
    "voices = engine.getProperty(\"voices\")\n",
    "engine.setProperty(\"voices\", voices[0].id)\n",
    "def speak(input):\n",
    "    engine.say(input)\n",
    "    engine.runAndWait()\n",
    "def takecommand():\n",
    "    r = sr.Recognizer()\n",
    "    with sr.Microphone() as source:\n",
    "        speak(\"listening..\")\n",
    "        print(\"listening\")\n",
    "        audio = r.listen(source)\n",
    "    try:\n",
    "        speak(\"recognising\")\n",
    "        print(\"recognising\")\n",
    "        text = r.recognize_google(audio)\n",
    "    except:\n",
    "        return (\"say that again please\")\n",
    "    return text\n",
    "while True:\n",
    "    text=takecommand().lower()\n",
    "    print(f\"you said:{text}\")\n",
    "    if \"hi\" in text:\n",
    "        speak(\"luckily here is a hearty welcome big and warm enough to encompass you all. all india radio welcomes you \")\n",
    "    elif \"hello\" in text:\n",
    "        speak(\"luckily here is a hearty welcome big and warm enough to encompass you all. all india radio welcomes you\")\n",
    "    elif \"thanks\" in text:\n",
    "        speak(\"glad to help you\")\n",
    "    elif \"thank you\" in text:\n",
    "        speak(\"glad to help you\")\n",
    "    elif \"all india radio\" in text:\n",
    "        speak(\"Yes sir/mam\", \"which song do you want us to play\")\n",
    "    elif \"song of 90's\" in text:\n",
    "        speak(\"definitely\") \n",
    "    elif \"it should be a rocking music on which people love to dance\" in text:\n",
    "        speak(\"we hope you will love this one \")\n",
    "    elif \"enjoyed a lot\"in text:\n",
    "        speak(\"most welcome and we are always there to refreshen you up\")\n",
    "    elif \"bye\" in text:\n",
    "        speak(\"Bye  have a good day and meet you soon on the same channel\")\n",
    "    elif \"Good Morning\" in text:\n",
    "        speak(\"good morning india.\")\n",
    "    elif \"good afternoon\" in text:\n",
    "        speak(\"good afternoon india\")\n",
    "    elif  \"good night\" in text:\n",
    "        speak(\"good night india\")\n",
    "    else:\n",
    "        speak(\"unable to understand your words could you please repeat it\")\n",
    "        print(\"if you want to quit?\")\n",
    "        ans=int(input(\"press 1 for yes:\"))\n",
    "        if ans==1:\n",
    "            break\n",
    "print(\"THANK YOU FOR LISTENING TO ALL INDIA RADIO AND STAY HOME STAY SAFE FROM THIS PANDEMIC MEET YOU SOON ON THE SAME CHANNEL:\")"
   ]
  },
  {
   "cell_type": "code",
   "execution_count": null,
   "id": "4d1c87a3",
   "metadata": {},
   "outputs": [],
   "source": []
  },
  {
   "cell_type": "code",
   "execution_count": null,
   "id": "85aa0b40",
   "metadata": {},
   "outputs": [],
   "source": []
  },
  {
   "cell_type": "code",
   "execution_count": null,
   "id": "be280ce1",
   "metadata": {},
   "outputs": [],
   "source": []
  },
  {
   "cell_type": "code",
   "execution_count": null,
   "id": "cb573767",
   "metadata": {},
   "outputs": [],
   "source": []
  },
  {
   "cell_type": "code",
   "execution_count": null,
   "id": "e03fa0b0",
   "metadata": {},
   "outputs": [],
   "source": []
  },
  {
   "cell_type": "code",
   "execution_count": null,
   "id": "383c0f30",
   "metadata": {},
   "outputs": [],
   "source": []
  },
  {
   "cell_type": "code",
   "execution_count": null,
   "id": "fa49c925",
   "metadata": {},
   "outputs": [],
   "source": []
  }
 ],
 "metadata": {
  "kernelspec": {
   "display_name": "Python 3",
   "language": "python",
   "name": "python3"
  },
  "language_info": {
   "codemirror_mode": {
    "name": "ipython",
    "version": 3
   },
   "file_extension": ".py",
   "mimetype": "text/x-python",
   "name": "python",
   "nbconvert_exporter": "python",
   "pygments_lexer": "ipython3",
   "version": "3.8.8"
  }
 },
 "nbformat": 4,
 "nbformat_minor": 5
}
